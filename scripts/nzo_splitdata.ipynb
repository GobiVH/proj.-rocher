{
 "cells": [
  {
   "cell_type": "code",
   "execution_count": 1,
   "id": "4e2ef84e",
   "metadata": {},
   "outputs": [],
   "source": [
    "import pandas as pd\n",
    "\n",
    "data = pd.read_csv(\n",
    "    r'C:\\Users\\ENZOA\\OneDrive - Aix-Marseille Université\\DESU\\Groupe\\G\\en.openfoodfacts.org.products.csv',\n",
    "    sep='\\t',\n",
    "    low_memory=False,\n",
    "    on_bad_lines='skip',  # Ignore les lignes problématiques\n",
    "    nrows=10000)"
   ]
  },
  {
   "cell_type": "code",
   "execution_count": 3,
   "id": "0663f791",
   "metadata": {},
   "outputs": [],
   "source": [
    "data.to_csv(r'C:\\Users\\ENZOA\\OneDrive - Aix-Marseille Université\\DESU\\Groupe\\G\\proj.-rocher\\data\\10kRows.csv', index=False)"
   ]
  },
  {
   "cell_type": "code",
   "execution_count": 4,
   "id": "46a14675",
   "metadata": {},
   "outputs": [],
   "source": [
    "!git config --global user.email \"enzo.arathni@gmail.com\"\n",
    "!git config --global user.name \"Ghowar13\""
   ]
  },
  {
   "cell_type": "code",
   "execution_count": null,
   "id": "ff6a9c78",
   "metadata": {},
   "outputs": [
    {
     "name": "stdout",
     "output_type": "stream",
     "text": [
      "On branch main\n",
      "Your branch is up to date with 'origin/main'.\n",
      "\n",
      "Untracked files:\n",
      "  (use \"git add <file>...\" to include in what will be committed)\n",
      "\t../data/10kRows.csv\n",
      "\tdata\n",
      "\tnzo_splitdata.ipynb\n",
      "\n",
      "nothing added to commit but untracked files present (use \"git add\" to track)\n"
     ]
    },
    {
     "name": "stderr",
     "output_type": "stream",
     "text": [
      "Everything up-to-date\n"
     ]
    }
   ],
   "source": [
    "# !git add 10kRows.csv\n",
    "# !git commit -m \"Add 10k rows of Open Food Facts data\"\n",
    "# !git push origin main"
   ]
  },
  {
   "cell_type": "code",
   "execution_count": null,
   "id": "90c8731c",
   "metadata": {},
   "outputs": [
    {
     "name": "stdout",
     "output_type": "stream",
     "text": [
      "[main 66b85dc] Ajout des fichiers non suivis\n",
      " 1 file changed, 10001 deletions(-)\n",
      " delete mode 100644 scripts/10kRows.csv\n"
     ]
    },
    {
     "name": "stderr",
     "output_type": "stream",
     "text": [
      "To https://github.com/GobiVH/proj.-rocher.git\n",
      "   a9e1cb2..66b85dc  main -> main\n"
     ]
    }
   ],
   "source": [
    "# !git add -A\n",
    "# !git commit -m \"Ajout des fichiers non suivis\"\n",
    "# !git push origin main"
   ]
  },
  {
   "cell_type": "code",
   "execution_count": null,
   "id": "fa9afdc0",
   "metadata": {},
   "outputs": [],
   "source": []
  }
 ],
 "metadata": {
  "kernelspec": {
   "display_name": "base",
   "language": "python",
   "name": "python3"
  },
  "language_info": {
   "codemirror_mode": {
    "name": "ipython",
    "version": 3
   },
   "file_extension": ".py",
   "mimetype": "text/x-python",
   "name": "python",
   "nbconvert_exporter": "python",
   "pygments_lexer": "ipython3",
   "version": "3.12.4"
  }
 },
 "nbformat": 4,
 "nbformat_minor": 5
}
