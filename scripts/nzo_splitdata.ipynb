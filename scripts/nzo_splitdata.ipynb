{
 "cells": [
  {
   "cell_type": "code",
   "execution_count": 25,
   "id": "4e2ef84e",
   "metadata": {},
   "outputs": [],
   "source": [
    "import pandas as pd\n",
    "\n",
    "data = pd.read_csv(\n",
    "    r'C:\\Users\\ENZOA\\OneDrive - Aix-Marseille Université\\DESU\\Groupe\\G\\en.openfoodfacts.org.products.csv',\n",
    "    sep='\\t',\n",
    "    low_memory=False,\n",
    "    on_bad_lines='skip',  # Ignore les lignes problématiques\n",
    "    nrows=10000)"
   ]
  },
  {
   "cell_type": "code",
   "execution_count": null,
   "id": "0663f791",
   "metadata": {},
   "outputs": [],
   "source": [
    "data.to_csv(r'data\\10kRows.csv', index=False)"
   ]
  },
  {
   "cell_type": "code",
   "execution_count": 22,
   "id": "46a14675",
   "metadata": {},
   "outputs": [],
   "source": [
    "!git config --global user.email \"enzo.arathni@gmail.com\"\n",
    "!git config --global user.name \"Ghowar13\""
   ]
  },
  {
   "cell_type": "code",
   "execution_count": 24,
   "id": "ff6a9c78",
   "metadata": {},
   "outputs": [
    {
     "name": "stdout",
     "output_type": "stream",
     "text": [
      "[main f054d35] Add 10k rows of Open Food Facts data\n",
      " 1 file changed, 10001 insertions(+)\n",
      " create mode 100644 scripts/10kRows.csv\n",
      "^C\n"
     ]
    }
   ],
   "source": [
    "!git add 10kRows.csv\n",
    "!git commit -m \"Add 10k rows of Open Food Facts data\"\n",
    "!git push origin main"
   ]
  },
  {
   "cell_type": "code",
   "execution_count": null,
   "id": "2b979599",
   "metadata": {},
   "outputs": [],
   "source": []
  }
 ],
 "metadata": {
  "kernelspec": {
   "display_name": "base",
   "language": "python",
   "name": "python3"
  },
  "language_info": {
   "codemirror_mode": {
    "name": "ipython",
    "version": 3
   },
   "file_extension": ".py",
   "mimetype": "text/x-python",
   "name": "python",
   "nbconvert_exporter": "python",
   "pygments_lexer": "ipython3",
   "version": "3.12.4"
  }
 },
 "nbformat": 4,
 "nbformat_minor": 5
}
