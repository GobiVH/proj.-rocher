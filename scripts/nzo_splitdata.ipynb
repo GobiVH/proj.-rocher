{
 "cells": [
  {
   "cell_type": "code",
   "execution_count": 1,
   "id": "4e2ef84e",
   "metadata": {},
   "outputs": [],
   "source": [
    "import pandas as pd\n",
    "\n",
    "data = pd.read_csv(\n",
    "    r'C:\\Users\\ENZOA\\OneDrive - Aix-Marseille Université\\DESU\\Groupe\\G\\en.openfoodfacts.org.products.csv',\n",
    "    sep='\\t',\n",
    "    low_memory=False,\n",
    "    on_bad_lines='skip',  # Ignore les lignes problématiques\n",
    "    nrows=10000)"
   ]
  },
  {
   "cell_type": "code",
   "execution_count": 2,
   "id": "0663f791",
   "metadata": {},
   "outputs": [],
   "source": [
    "# data.to_csv(r'data\\10kRows.csv', index=False)"
   ]
  },
  {
   "cell_type": "code",
   "execution_count": 3,
   "id": "46a14675",
   "metadata": {},
   "outputs": [],
   "source": [
    "# !git config --global user.email \"enzo.arathni@gmail.com\"\n",
    "# !git config --global user.name \"Ghowar13\""
   ]
  },
  {
   "cell_type": "code",
   "execution_count": 4,
   "id": "ff6a9c78",
   "metadata": {},
   "outputs": [],
   "source": [
    "# !git add 10kRows.csv\n",
    "# !git commit -m \"Add 10k rows of Open Food Facts data\"\n",
    "# !git push origin main"
   ]
  },
  {
   "cell_type": "code",
   "execution_count": 5,
   "id": "2b979599",
   "metadata": {},
   "outputs": [],
   "source": [
    "Y = data[\"nutriscore_grade\"]"
   ]
  },
  {
   "cell_type": "code",
   "execution_count": 6,
   "id": "a43223f8",
   "metadata": {},
   "outputs": [
    {
     "data": {
      "application/vnd.microsoft.datawrangler.viewer.v0+json": {
       "columns": [
        {
         "name": "index",
         "rawType": "int64",
         "type": "integer"
        },
        {
         "name": "nutriscore_grade",
         "rawType": "object",
         "type": "string"
        }
       ],
       "ref": "585293ca-f766-4187-a5b4-e0013e60cc82",
       "rows": [
        [
         "0",
         "unknown"
        ],
        [
         "1",
         "unknown"
        ],
        [
         "2",
         "unknown"
        ],
        [
         "3",
         "unknown"
        ],
        [
         "4",
         "not-applicable"
        ]
       ],
       "shape": {
        "columns": 1,
        "rows": 5
       }
      },
      "text/plain": [
       "0           unknown\n",
       "1           unknown\n",
       "2           unknown\n",
       "3           unknown\n",
       "4    not-applicable\n",
       "Name: nutriscore_grade, dtype: object"
      ]
     },
     "execution_count": 6,
     "metadata": {},
     "output_type": "execute_result"
    }
   ],
   "source": [
    "Y.head()"
   ]
  },
  {
   "cell_type": "code",
   "execution_count": 7,
   "id": "75f26521",
   "metadata": {},
   "outputs": [],
   "source": [
    "datas=data.drop(columns=[\"nutriscore_grade\"])"
   ]
  },
  {
   "cell_type": "code",
   "execution_count": null,
   "id": "d471844a",
   "metadata": {},
   "outputs": [],
   "source": []
  }
 ],
 "metadata": {
  "kernelspec": {
   "display_name": "base",
   "language": "python",
   "name": "python3"
  },
  "language_info": {
   "codemirror_mode": {
    "name": "ipython",
    "version": 3
   },
   "file_extension": ".py",
   "mimetype": "text/x-python",
   "name": "python",
   "nbconvert_exporter": "python",
   "pygments_lexer": "ipython3",
   "version": "3.12.4"
  }
 },
 "nbformat": 4,
 "nbformat_minor": 5
}
