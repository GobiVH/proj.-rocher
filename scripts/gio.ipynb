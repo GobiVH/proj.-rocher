{
 "cells": [
  {
   "cell_type": "code",
   "execution_count": null,
   "id": "2eeaf5b7",
   "metadata": {},
   "outputs": [],
   "source": []
  },
  {
   "cell_type": "code",
   "execution_count": 1,
   "id": "f42ffabc",
   "metadata": {},
   "outputs": [],
   "source": [
    "!git config --global user.email \"bellonigiovanni.vh@gmail.com\"\n",
    "!git config --global user.name \"gobi.vonh\""
   ]
  },
  {
   "cell_type": "code",
   "execution_count": 7,
   "id": "6d5d6bec",
   "metadata": {},
   "outputs": [],
   "source": [
    "!git config --global user.name \"gobi.vonh\""
   ]
  },
  {
   "cell_type": "code",
   "execution_count": 8,
   "id": "f3ed09fe",
   "metadata": {},
   "outputs": [
    {
     "name": "stdout",
     "output_type": "stream",
     "text": [
      "Your Name\n"
     ]
    }
   ],
   "source": [
    "!git config --get user.name"
   ]
  },
  {
   "cell_type": "code",
   "execution_count": 4,
   "id": "c076c532",
   "metadata": {},
   "outputs": [],
   "source": [
    "import numpy as np\n",
    "import pandas as pd\n",
    "import matplotlib.pyplot as plt"
   ]
  },
  {
   "cell_type": "code",
   "execution_count": null,
   "id": "580dafd6",
   "metadata": {},
   "outputs": [],
   "source": []
  }
 ],
 "metadata": {
  "kernelspec": {
   "display_name": "proj_r",
   "language": "python",
   "name": "python3"
  },
  "language_info": {
   "codemirror_mode": {
    "name": "ipython",
    "version": 3
   },
   "file_extension": ".py",
   "mimetype": "text/x-python",
   "name": "python",
   "nbconvert_exporter": "python",
   "pygments_lexer": "ipython3",
   "version": "3.11.13"
  }
 },
 "nbformat": 4,
 "nbformat_minor": 5
}
